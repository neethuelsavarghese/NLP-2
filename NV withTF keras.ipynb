{
 "cells": [
  {
   "cell_type": "code",
   "execution_count": 21,
   "metadata": {},
   "outputs": [],
   "source": [
    "import json\n",
    "import tensorflow as tf\n",
    "from tensorflow import keras\n",
    "from tensorflow.keras.preprocessing.text import Tokenizer\n",
    "from tensorflow.keras.preprocessing.sequence import pad_sequences"
   ]
  },
  {
   "cell_type": "code",
   "execution_count": 22,
   "metadata": {},
   "outputs": [],
   "source": [
    "vocab_size = 10000\n",
    "embedding_dim = 16\n",
    "max_length = 100\n",
    "trunc_type='post'\n",
    "padding_type='post'\n",
    "oov_tok = \"<OOV>\"\n",
    "training_size = 20000"
   ]
  },
  {
   "cell_type": "code",
   "execution_count": 23,
   "metadata": {},
   "outputs": [],
   "source": [
    "with open(\"sarcasm.json\", 'r') as f:\n",
    "    datastore = json.load(f)\n",
    "    sentences = []\n",
    "    labels = []\n",
    "\n",
    "for item in datastore:\n",
    "    sentences.append(item['headline'])\n",
    "    labels.append(item['is_sarcastic'])\n",
    "    \n",
    " #first 20K   \n",
    "training_sentences = sentences[0:training_size]\n",
    "#Remaining \n",
    "testing_sentences = sentences[training_size:]\n",
    "training_labels = labels[0:training_size]\n",
    "testing_labels = labels[training_size:]"
   ]
  },
  {
   "cell_type": "code",
   "execution_count": 25,
   "metadata": {},
   "outputs": [],
   "source": [
    "tokenizer = Tokenizer(num_words=vocab_size, oov_token=oov_tok)\n",
    "tokenizer.fit_on_texts(training_sentences)\n",
    "\n",
    "word_index = tokenizer.word_index\n",
    "\n",
    "training_sequences = tokenizer.texts_to_sequences(training_sentences)\n",
    "training_padded = pad_sequences(training_sequences, maxlen=max_length, padding=padding_type, truncating=trunc_type)\n",
    "\n",
    "testing_sequences = tokenizer.texts_to_sequences(testing_sentences)\n",
    "testing_padded = pad_sequences(testing_sequences, maxlen=max_length, padding=padding_type, truncating=trunc_type)"
   ]
  },
  {
   "cell_type": "code",
   "execution_count": 26,
   "metadata": {},
   "outputs": [
    {
     "name": "stdout",
     "output_type": "stream",
     "text": [
      "Model: \"sequential_2\"\n",
      "_________________________________________________________________\n",
      "Layer (type)                 Output Shape              Param #   \n",
      "=================================================================\n",
      "embedding_2 (Embedding)      (None, 100, 16)           160000    \n",
      "_________________________________________________________________\n",
      "global_average_pooling1d_2 ( (None, 16)                0         \n",
      "_________________________________________________________________\n",
      "dense_4 (Dense)              (None, 24)                408       \n",
      "_________________________________________________________________\n",
      "dense_5 (Dense)              (None, 1)                 25        \n",
      "=================================================================\n",
      "Total params: 160,433\n",
      "Trainable params: 160,433\n",
      "Non-trainable params: 0\n",
      "_________________________________________________________________\n"
     ]
    }
   ],
   "source": [
    "# Need this block to get it to work with TensorFlow 2.x\n",
    "import numpy as np\n",
    "training_padded = np.array(training_padded)\n",
    "training_labels = np.array(training_labels)\n",
    "testing_padded = np.array(testing_padded)\n",
    "testing_labels = np.array(testing_labels)\n",
    "model = tf.keras.Sequential([\n",
    "    tf.keras.layers.Embedding(vocab_size, embedding_dim, input_length=max_length),\n",
    "    tf.keras.layers.GlobalAveragePooling1D(),\n",
    "    tf.keras.layers.Dense(24, activation='relu'),\n",
    "    tf.keras.layers.Dense(1, activation='sigmoid')\n",
    "])\n",
    "model.compile(loss='binary_crossentropy',optimizer='adam',metrics=['accuracy'])\n",
    "model.summary()"
   ]
  },
  {
   "cell_type": "code",
   "execution_count": 27,
   "metadata": {},
   "outputs": [
    {
     "name": "stdout",
     "output_type": "stream",
     "text": [
      "Epoch 1/30\n",
      "625/625 - 1s - loss: 0.6529 - accuracy: 0.6102 - val_loss: 0.5404 - val_accuracy: 0.7857\n",
      "Epoch 2/30\n",
      "625/625 - 1s - loss: 0.4088 - accuracy: 0.8400 - val_loss: 0.3771 - val_accuracy: 0.8442\n",
      "Epoch 3/30\n",
      "625/625 - 1s - loss: 0.3013 - accuracy: 0.8817 - val_loss: 0.3494 - val_accuracy: 0.8554\n",
      "Epoch 4/30\n",
      "625/625 - 1s - loss: 0.2518 - accuracy: 0.9036 - val_loss: 0.3431 - val_accuracy: 0.8571\n",
      "Epoch 5/30\n",
      "625/625 - 1s - loss: 0.2163 - accuracy: 0.9184 - val_loss: 0.3493 - val_accuracy: 0.8527\n",
      "Epoch 6/30\n",
      "625/625 - 1s - loss: 0.1900 - accuracy: 0.9275 - val_loss: 0.3626 - val_accuracy: 0.8499\n",
      "Epoch 7/30\n",
      "625/625 - 1s - loss: 0.1677 - accuracy: 0.9372 - val_loss: 0.3860 - val_accuracy: 0.8433\n",
      "Epoch 8/30\n",
      "625/625 - 1s - loss: 0.1517 - accuracy: 0.9450 - val_loss: 0.3817 - val_accuracy: 0.8533\n",
      "Epoch 9/30\n",
      "625/625 - 1s - loss: 0.1357 - accuracy: 0.9521 - val_loss: 0.3983 - val_accuracy: 0.8529\n",
      "Epoch 10/30\n",
      "625/625 - 1s - loss: 0.1228 - accuracy: 0.9574 - val_loss: 0.4320 - val_accuracy: 0.8435\n",
      "Epoch 11/30\n",
      "625/625 - 1s - loss: 0.1126 - accuracy: 0.9617 - val_loss: 0.4416 - val_accuracy: 0.8471\n",
      "Epoch 12/30\n",
      "625/625 - 1s - loss: 0.1029 - accuracy: 0.9666 - val_loss: 0.4684 - val_accuracy: 0.8457\n",
      "Epoch 13/30\n",
      "625/625 - 1s - loss: 0.0933 - accuracy: 0.9690 - val_loss: 0.4938 - val_accuracy: 0.8408\n",
      "Epoch 14/30\n",
      "625/625 - 1s - loss: 0.0874 - accuracy: 0.9717 - val_loss: 0.5174 - val_accuracy: 0.8395\n",
      "Epoch 15/30\n",
      "625/625 - 1s - loss: 0.0796 - accuracy: 0.9745 - val_loss: 0.5454 - val_accuracy: 0.8374\n",
      "Epoch 16/30\n",
      "625/625 - 1s - loss: 0.0727 - accuracy: 0.9758 - val_loss: 0.5879 - val_accuracy: 0.8335\n",
      "Epoch 17/30\n",
      "625/625 - 1s - loss: 0.0673 - accuracy: 0.9790 - val_loss: 0.6108 - val_accuracy: 0.8337\n",
      "Epoch 18/30\n",
      "625/625 - 1s - loss: 0.0618 - accuracy: 0.9815 - val_loss: 0.6455 - val_accuracy: 0.8293\n",
      "Epoch 19/30\n",
      "625/625 - 1s - loss: 0.0567 - accuracy: 0.9823 - val_loss: 0.6987 - val_accuracy: 0.8243\n",
      "Epoch 20/30\n",
      "625/625 - 1s - loss: 0.0521 - accuracy: 0.9844 - val_loss: 0.7508 - val_accuracy: 0.8226\n",
      "Epoch 21/30\n",
      "625/625 - 1s - loss: 0.0491 - accuracy: 0.9854 - val_loss: 0.7320 - val_accuracy: 0.8237\n",
      "Epoch 22/30\n",
      "625/625 - 1s - loss: 0.0432 - accuracy: 0.9878 - val_loss: 0.7681 - val_accuracy: 0.8222\n",
      "Epoch 23/30\n",
      "625/625 - 1s - loss: 0.0425 - accuracy: 0.9872 - val_loss: 0.8189 - val_accuracy: 0.8207\n",
      "Epoch 24/30\n",
      "625/625 - 1s - loss: 0.0390 - accuracy: 0.9883 - val_loss: 0.8642 - val_accuracy: 0.8180\n",
      "Epoch 25/30\n",
      "625/625 - 1s - loss: 0.0347 - accuracy: 0.9905 - val_loss: 0.8997 - val_accuracy: 0.8183\n",
      "Epoch 26/30\n",
      "625/625 - 1s - loss: 0.0316 - accuracy: 0.9917 - val_loss: 0.9142 - val_accuracy: 0.8170\n",
      "Epoch 27/30\n",
      "625/625 - 1s - loss: 0.0293 - accuracy: 0.9920 - val_loss: 0.9604 - val_accuracy: 0.8155\n",
      "Epoch 28/30\n",
      "625/625 - 1s - loss: 0.0288 - accuracy: 0.9920 - val_loss: 0.9947 - val_accuracy: 0.8143\n",
      "Epoch 29/30\n",
      "625/625 - 1s - loss: 0.0284 - accuracy: 0.9919 - val_loss: 1.0479 - val_accuracy: 0.8144\n",
      "Epoch 30/30\n",
      "625/625 - 1s - loss: 0.0235 - accuracy: 0.9937 - val_loss: 1.0637 - val_accuracy: 0.8128\n"
     ]
    }
   ],
   "source": [
    "num_epochs = 30\n",
    "history = model.fit(training_padded, training_labels, epochs=num_epochs, validation_data=(testing_padded, testing_labels), verbose=2)"
   ]
  },
  {
   "cell_type": "code",
   "execution_count": 30,
   "metadata": {},
   "outputs": [
    {
     "data": {
      "image/png": "[encoded data removed]",
      "text/plain": [
       "<Figure size 432x288 with 1 Axes>"
      ]
     },
     "metadata": {
      "needs_background": "light"
     },
     "output_type": "display_data"
    },
    {
     "data": {
      "image/png": "[encoded data removed]",
      "text/plain": [
       "<Figure size 432x288 with 1 Axes>"
      ]
     },
     "metadata": {
      "needs_background": "light"
     },
     "output_type": "display_data"
    }
   ],
   "source": [
    "import matplotlib.pyplot as plt\n",
    "\n",
    "\n",
    "def plot_graphs(history, string):\n",
    "  plt.plot(history.history[string])\n",
    "  plt.plot(history.history['val_'+string])\n",
    "  plt.xlabel(\"Epochs\")\n",
    "  plt.ylabel(string)\n",
    "  plt.legend([string, 'val_'+string])\n",
    "  plt.show()\n",
    "  \n",
    "plot_graphs(history, \"accuracy\")\n",
    "plot_graphs(history, \"loss\")"
   ]
  },
  {
   "cell_type": "code",
   "execution_count": 32,
   "metadata": {},
   "outputs": [
    {
     "name": "stdout",
     "output_type": "stream",
     "text": [
      "former <OOV> store clerk sues over secret 'black <OOV> for minority shoppers ? ? ? ? ? ? ? ? ? ? ? ? ? ? ? ? ? ? ? ? ? ? ? ? ? ? ? ? ? ? ? ? ? ? ? ? ? ? ? ? ? ? ? ? ? ? ? ? ? ? ? ? ? ? ? ? ? ? ? ? ? ? ? ? ? ? ? ? ? ? ? ? ? ? ? ? ? ? ? ? ? ? ? ? ? ? ? ?\n",
      "mom starting to fear son's web series closest thing she will have to grandchild\n",
      "1\n"
     ]
    }
   ],
   "source": [
    "reverse_word_index = dict([(value, key) for (key, value) in word_index.items()])\n",
    "\n",
    "def decode_sentence(text):\n",
    "    return ' '.join([reverse_word_index.get(i, '?') for i in text])\n",
    "\n",
    "print(decode_sentence(training_padded[0]))\n",
    "print(training_sentences[2])\n",
    "print(labels[2])"
   ]
  },
  {
   "cell_type": "code",
   "execution_count": 33,
   "metadata": {},
   "outputs": [
    {
     "name": "stdout",
     "output_type": "stream",
     "text": [
      "(10000, 16)\n"
     ]
    }
   ],
   "source": [
    "e = model.layers[0]\n",
    "weights = e.get_weights()[0]\n",
    "print(weights.shape) # shape: (vocab_size, embedding_dim)\n"
   ]
  },
  {
   "cell_type": "code",
   "execution_count": 55,
   "metadata": {},
   "outputs": [
    {
     "name": "stdout",
     "output_type": "stream",
     "text": [
      "[[8.0683742e-05]\n",
      " [2.9821396e-03]]\n"
     ]
    }
   ],
   "source": [
    "sentence = [\"what an amazing week \", \"We started to see the emergence of hateful comments well before Trump.\"]\n",
    "\n",
    "sequences = tokenizer.texts_to_sequences(sentence)\n",
    "padded = pad_sequences(sequences, maxlen=max_length, padding=padding_type, truncating=trunc_type)\n",
    "print(model.predict(padded))"
   ]
  },
  {
   "cell_type": "code",
   "execution_count": null,
   "metadata": {},
   "outputs": [],
   "source": []
  }
 ],
 "metadata": {
  "kernelspec": {
   "display_name": "Python 3",
   "language": "python",
   "name": "python3"
  },
  "language_info": {
   "codemirror_mode": {
    "name": "ipython",
    "version": 3
   },
   "file_extension": ".py",
   "mimetype": "text/x-python",
   "name": "python",
   "nbconvert_exporter": "python",
   "pygments_lexer": "ipython3",
   "version": "3.8.3"
  }
 },
 "nbformat": 4,
 "nbformat_minor": 4
}
